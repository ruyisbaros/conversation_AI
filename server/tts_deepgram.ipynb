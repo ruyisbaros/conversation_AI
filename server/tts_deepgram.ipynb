{
 "cells": [
  {
   "cell_type": "code",
   "execution_count": 6,
   "metadata": {},
   "outputs": [
    {
     "data": {
      "text/plain": [
       "True"
      ]
     },
     "execution_count": 6,
     "metadata": {},
     "output_type": "execute_result"
    }
   ],
   "source": [
    "import os\n",
    "import logging\n",
    "from dotenv import load_dotenv\n",
    "from deepgram.utils import verboselogs\n",
    "\n",
    "from deepgram import (\n",
    "    DeepgramClient,\n",
    "    SpeakOptions,\n",
    ")\n",
    "load_dotenv()"
   ]
  },
  {
   "cell_type": "code",
   "execution_count": 8,
   "metadata": {},
   "outputs": [
    {
     "name": "stdout",
     "output_type": "stream",
     "text": [
      "{\n",
      "    \"content_type\": \"audio/mpeg\",\n",
      "    \"request_id\": \"15185ab8-9b8e-4ab3-816b-098e8e0dac1e\",\n",
      "    \"model_uuid\": \"ecb76e9d-f2db-4127-8060-79b05590d22f\",\n",
      "    \"model_name\": \"aura-asteria-en\",\n",
      "    \"characters\": 12,\n",
      "    \"transfer_encoding\": \"chunked\",\n",
      "    \"date\": \"Tue, 10 Dec 2024 20:37:01 GMT\",\n",
      "    \"filename\": \"test.mp3\"\n",
      "}\n"
     ]
    }
   ],
   "source": [
    "\n",
    "SPEAK_TEXT = {\"text\": \"Hello world!\"}\n",
    "filename = \"test.mp3\"\n",
    "\n",
    "\n",
    "def main():\n",
    "    try:\n",
    "        # STEP 1 Create a Deepgram client using the API key from environment variables\n",
    "        deepgram = DeepgramClient()\n",
    "\n",
    "        # STEP 2 Call the save method on the speak property\n",
    "        options = SpeakOptions(\n",
    "            model=\"aura-asteria-en\",\n",
    "        )\n",
    "\n",
    "        response = deepgram.speak.rest.v(\"1\").save(filename, SPEAK_TEXT, options)\n",
    "        print(response.to_json(indent=4))\n",
    "\n",
    "    except Exception as e:\n",
    "        print(f\"Exception: {e}\")\n",
    "\n",
    "main()"
   ]
  },
  {
   "cell_type": "code",
   "execution_count": null,
   "metadata": {},
   "outputs": [],
   "source": []
  }
 ],
 "metadata": {
  "kernelspec": {
   "display_name": "langenv",
   "language": "python",
   "name": "python3"
  },
  "language_info": {
   "codemirror_mode": {
    "name": "ipython",
    "version": 3
   },
   "file_extension": ".py",
   "mimetype": "text/x-python",
   "name": "python",
   "nbconvert_exporter": "python",
   "pygments_lexer": "ipython3",
   "version": "3.11.0"
  }
 },
 "nbformat": 4,
 "nbformat_minor": 2
}
